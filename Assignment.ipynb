{
 "cells": [
  {
   "cell_type": "code",
   "execution_count": 1,
   "id": "6c22c4b9",
   "metadata": {},
   "outputs": [],
   "source": [
    "from bs4 import BeautifulSoup\n",
    "import requests\n",
    "import csv\n",
    "import sqlite3\n",
    "import re\n",
    "import pandas as pd\n",
    "\n",
    "connection = sqlite3.connect('BOOKS_DB.db')\n",
    "sql = \"CREATE TABLE Books (Name varchar(255) ,category varchar(255),price float, rate int)\"\n",
    "cursor = connection.execute(sql)\n",
    "\n",
    "data = requests.get(f'http://books.toscrape.com/')\n",
    "query = BeautifulSoup(data.text,'html.parser')\n",
    "query = query.find('ul', attrs={'class':'nav nav-list'})  \n",
    "query = query.find_all('a')\n",
    "categories = []\n",
    "for i in range( 1, len(query) ):\n",
    "    categories.append(str(query[i]).split('\"')[1].split('/')[3])\n",
    "    \n",
    "\n",
    "Books_headers = ['Name','category','price','rate']\n",
    "Books_data = []\n",
    "for category in categories:\n",
    "    #print(f'category: {category} \\n----------------------------')\n",
    "    \n",
    "    page_number = 'index.html'\n",
    "    #print('First Page\\n')\n",
    "    while True:\n",
    "        data = requests.get(f'http://books.toscrape.com/catalogue/category/books/{category}/{page_number}')\n",
    "        query = BeautifulSoup(data.text,'html.parser')\n",
    "    \n",
    "        query_names = query.find_all('article', attrs={'class':'product_pod'}) \n",
    "        for book in query_names:\n",
    "            name = str(book.find('h3')).split('\"')[3]\n",
    "            price = re.sub(\"[^0-9]\", \"\", str(book.find('p', attrs={'class':'price_color'})).split('\"')[2])\n",
    "            price = float(price[:2] + '.' + price[2:])\n",
    "            rate = book.find('p',attrs={'class':['star-rating One','star-rating Two','star-rating Three','star-rating Four','star-rating Five']})['class'][1]\n",
    "            if rate == 'One':\n",
    "                rate = 1\n",
    "            elif rate == 'Two':\n",
    "                rate = 2\n",
    "            elif rate == 'Three':\n",
    "                rate = 3\n",
    "            elif rate == 'Four':\n",
    "                rate = 4\n",
    "            else:\n",
    "                rate = 5\n",
    "            Books_data.append([name,price,category,rate])\n",
    "            \n",
    "            sql = 'INSERT INTO Books (Name,category,price,rate) VALUES (?,?,?,?)'\n",
    "            data = [name,category,price,rate]\n",
    "            cursor = connection.execute(sql,data)\n",
    "            \n",
    "            #print(str(book_name.find('h3')).split('\"')[3])\n",
    "        \n",
    "        query_pages = query.find_all('li', attrs={'class':'next'})\n",
    "        if len(query_pages)==0:\n",
    "            break\n",
    "\n",
    "        page_number = str(query_pages).split('\"')[3]\n",
    "        #print('\\n',page_number,'\\n----------------------------')\n",
    "connection.commit()\n",
    "connection.close()"
   ]
  },
  {
   "cell_type": "code",
   "execution_count": 2,
   "id": "7d7296b1",
   "metadata": {},
   "outputs": [],
   "source": [
    "connection = sqlite3.connect('BOOKS_DB.db')\n",
    "sql = \"CREATE TABLE Categories (id int NOT NULL,category varchar(255) )\"\n",
    "cursor = connection.execute(sql)\n",
    "\n",
    "\n",
    "for i in range(1,len(categories)):\n",
    "    sql = 'INSERT INTO categories (id,category) VALUES (?,?)'\n",
    "    data = [i-1,categories[i]]\n",
    "    cursor = connection.execute(sql,data)\n",
    "    \n",
    "connection.commit()\n",
    "connection.close()"
   ]
  },
  {
   "cell_type": "code",
   "execution_count": 3,
   "id": "df3bde70",
   "metadata": {},
   "outputs": [
    {
     "data": {
      "text/html": [
       "<div>\n",
       "<style scoped>\n",
       "    .dataframe tbody tr th:only-of-type {\n",
       "        vertical-align: middle;\n",
       "    }\n",
       "\n",
       "    .dataframe tbody tr th {\n",
       "        vertical-align: top;\n",
       "    }\n",
       "\n",
       "    .dataframe thead th {\n",
       "        text-align: right;\n",
       "    }\n",
       "</style>\n",
       "<table border=\"1\" class=\"dataframe\">\n",
       "  <thead>\n",
       "    <tr style=\"text-align: right;\">\n",
       "      <th></th>\n",
       "      <th>Name</th>\n",
       "      <th>category</th>\n",
       "      <th>price</th>\n",
       "      <th>rate</th>\n",
       "    </tr>\n",
       "  </thead>\n",
       "  <tbody>\n",
       "    <tr>\n",
       "      <th>0</th>\n",
       "      <td>It's Only the Himalayas</td>\n",
       "      <td>45.17</td>\n",
       "      <td>travel_2</td>\n",
       "      <td>2</td>\n",
       "    </tr>\n",
       "    <tr>\n",
       "      <th>1</th>\n",
       "      <td>Full Moon over Noahâs Ark: An Odyssey to Mou...</td>\n",
       "      <td>49.43</td>\n",
       "      <td>travel_2</td>\n",
       "      <td>4</td>\n",
       "    </tr>\n",
       "    <tr>\n",
       "      <th>2</th>\n",
       "      <td>See America: A Celebration of Our National Par...</td>\n",
       "      <td>48.87</td>\n",
       "      <td>travel_2</td>\n",
       "      <td>3</td>\n",
       "    </tr>\n",
       "    <tr>\n",
       "      <th>3</th>\n",
       "      <td>Vagabonding: An Uncommon Guide to the Art of L...</td>\n",
       "      <td>36.94</td>\n",
       "      <td>travel_2</td>\n",
       "      <td>2</td>\n",
       "    </tr>\n",
       "    <tr>\n",
       "      <th>4</th>\n",
       "      <td>Under the Tuscan Sun</td>\n",
       "      <td>37.33</td>\n",
       "      <td>travel_2</td>\n",
       "      <td>3</td>\n",
       "    </tr>\n",
       "    <tr>\n",
       "      <th>...</th>\n",
       "      <td>...</td>\n",
       "      <td>...</td>\n",
       "      <td>...</td>\n",
       "      <td>...</td>\n",
       "    </tr>\n",
       "    <tr>\n",
       "      <th>995</th>\n",
       "      <td>Why the Right Went Wrong: Conservatism--From G...</td>\n",
       "      <td>52.65</td>\n",
       "      <td>politics_48</td>\n",
       "      <td>4</td>\n",
       "    </tr>\n",
       "    <tr>\n",
       "      <th>996</th>\n",
       "      <td>Equal Is Unfair: America's Misguided Fight Aga...</td>\n",
       "      <td>56.86</td>\n",
       "      <td>politics_48</td>\n",
       "      <td>1</td>\n",
       "    </tr>\n",
       "    <tr>\n",
       "      <th>997</th>\n",
       "      <td>Amid the Chaos</td>\n",
       "      <td>36.58</td>\n",
       "      <td>cultural_49</td>\n",
       "      <td>1</td>\n",
       "    </tr>\n",
       "    <tr>\n",
       "      <th>998</th>\n",
       "      <td>Dark Notes</td>\n",
       "      <td>19.19</td>\n",
       "      <td>erotica_50</td>\n",
       "      <td>5</td>\n",
       "    </tr>\n",
       "    <tr>\n",
       "      <th>999</th>\n",
       "      <td>The Long Shadow of Small Ghosts: Murder and Me...</td>\n",
       "      <td>10.97</td>\n",
       "      <td>crime_51</td>\n",
       "      <td>1</td>\n",
       "    </tr>\n",
       "  </tbody>\n",
       "</table>\n",
       "<p>1000 rows × 4 columns</p>\n",
       "</div>"
      ],
      "text/plain": [
       "                                                  Name  category        price  \\\n",
       "0                              It's Only the Himalayas     45.17     travel_2   \n",
       "1    Full Moon over Noahâs Ark: An Odyssey to Mou...     49.43     travel_2   \n",
       "2    See America: A Celebration of Our National Par...     48.87     travel_2   \n",
       "3    Vagabonding: An Uncommon Guide to the Art of L...     36.94     travel_2   \n",
       "4                                 Under the Tuscan Sun     37.33     travel_2   \n",
       "..                                                 ...       ...          ...   \n",
       "995  Why the Right Went Wrong: Conservatism--From G...     52.65  politics_48   \n",
       "996  Equal Is Unfair: America's Misguided Fight Aga...     56.86  politics_48   \n",
       "997                                     Amid the Chaos     36.58  cultural_49   \n",
       "998                                         Dark Notes     19.19   erotica_50   \n",
       "999  The Long Shadow of Small Ghosts: Murder and Me...     10.97     crime_51   \n",
       "\n",
       "     rate  \n",
       "0       2  \n",
       "1       4  \n",
       "2       3  \n",
       "3       2  \n",
       "4       3  \n",
       "..    ...  \n",
       "995     4  \n",
       "996     1  \n",
       "997     1  \n",
       "998     5  \n",
       "999     1  \n",
       "\n",
       "[1000 rows x 4 columns]"
      ]
     },
     "execution_count": 3,
     "metadata": {},
     "output_type": "execute_result"
    }
   ],
   "source": [
    "with open(\"Books.csv\" , 'w',newline=\"\",encoding=\"utf-8\") as Books:\n",
    "    w = csv.writer(Books)\n",
    "    w.writerow(Books_headers)\n",
    "    w.writerows(Books_data)\n",
    "Books = pd.read_csv('Books.csv')\n",
    "Books"
   ]
  },
  {
   "cell_type": "code",
   "execution_count": 4,
   "id": "075b86eb",
   "metadata": {},
   "outputs": [
    {
     "data": {
      "text/plain": [
       "[('Mrs. Houdini', 'historical-fiction_4', 30.25, 5)]"
      ]
     },
     "execution_count": 4,
     "metadata": {},
     "output_type": "execute_result"
    }
   ],
   "source": [
    "#01) Write a sql query to get books that has rate >=3 and has 'Mr' in its name.\n",
    "connection = sqlite3.connect('BOOKS_DB.db')\n",
    "\n",
    "sql = \"select * from Books where rate >= 3 and name LIKE 'Mr%' \"\n",
    "data = connection.execute(sql).fetchall()\n",
    "\n",
    "connection.close()\n",
    "\n",
    "data"
   ]
  },
  {
   "cell_type": "code",
   "execution_count": 5,
   "id": "bcd6396e",
   "metadata": {},
   "outputs": [],
   "source": [
    "#02) Write a sql query to get books that has rate >=3 or price > 20.\n",
    "connection = sqlite3.connect('BOOKS_DB.db')\n",
    "\n",
    "sql = \"select * from Books where rate >= 3 and price > 20 \"\n",
    "data = connection.execute(sql).fetchall()\n",
    "\n",
    "connection.close()\n"
   ]
  },
  {
   "cell_type": "code",
   "execution_count": 6,
   "id": "1f0bf916",
   "metadata": {},
   "outputs": [],
   "source": [
    "#03) Write a sql query to get books that has rate not 3.\n",
    "\n",
    "connection = sqlite3.connect('BOOKS_DB.db')\n",
    "\n",
    "sql = \"select * from Books where not rate = 3\"\n",
    "data = connection.execute(sql).fetchall()\n",
    "\n",
    "connection.close()"
   ]
  },
  {
   "cell_type": "code",
   "execution_count": 7,
   "id": "220378f4",
   "metadata": {},
   "outputs": [],
   "source": [
    "#04) Write a sql query to get books that has price between 10 and 40 and has rate 3 or 4 or 1.\n",
    "connection = sqlite3.connect('BOOKS_DB.db')\n",
    "\n",
    "sql = \"select * from Books where not rate = 3\"\n",
    "data = connection.execute(sql).fetchall()\n",
    "\n",
    "connection.close()\n"
   ]
  },
  {
   "cell_type": "code",
   "execution_count": 8,
   "id": "9d9da0ec",
   "metadata": {},
   "outputs": [
    {
     "data": {
      "text/plain": [
       "[('The Perfect Play (Play by Play #1)', 'romance_8', 59.99, 3),\n",
       " ('Last One Home (New Beginnings #1)', 'fiction_10', 59.98, 3),\n",
       " ('Civilization and Its Discontents', 'psychology_26', 59.95, 2),\n",
       " ('The Barefoot Contessa Cookbook', 'food-and-drink_33', 59.92, 5),\n",
       " ('The Diary of a Young Girl', 'nonfiction_13', 59.9, 3)]"
      ]
     },
     "execution_count": 8,
     "metadata": {},
     "output_type": "execute_result"
    }
   ],
   "source": [
    "#05) Write a sql query to get the top 5 most expensive books (order books desc with price column and then limit the result to the first 5).\n",
    "connection = sqlite3.connect('BOOKS_DB.db')\n",
    "\n",
    "sql = \"select * from Books order by price desc limit 5 \"\n",
    "data = connection.execute(sql).fetchall()\n",
    "\n",
    "connection.close()\n",
    "\n",
    "data"
   ]
  },
  {
   "cell_type": "code",
   "execution_count": 9,
   "id": "95d5d15b",
   "metadata": {},
   "outputs": [],
   "source": [
    "#06) Write a sql query to get the 3rd 10 books in the books table order first by rate desc and then by price asc.\n",
    "connection = sqlite3.connect('BOOKS_DB.db')\n",
    "\n",
    "sql = \"select * from Books order by rate desc limit 20\"\n",
    "data = connection.execute(sql).fetchall()\n",
    "\n",
    "connection.close()"
   ]
  },
  {
   "cell_type": "code",
   "execution_count": null,
   "id": "82795864",
   "metadata": {},
   "outputs": [],
   "source": [
    "#07) Write a sql query to add a new category in categories table and add 5 books to this category in books table with title, rate and price.\n",
    "connection = sqlite3.connect('BOOKS_DB.db')\n",
    "\n",
    "sql = \"select * from Books order by rate desc limit 20\"\n",
    "data = connection.execute(sql).fetchall()\n",
    "\n",
    "connection.close()"
   ]
  },
  {
   "cell_type": "code",
   "execution_count": 10,
   "id": "03d762ea",
   "metadata": {},
   "outputs": [],
   "source": [
    "#08) Write a sql query to update book's rate to 3 that thier price < 20£.\n",
    "UPDATE books\n",
    "SET rate = 3,\n",
    "WHERE price < 20;"
   ]
  },
  {
   "cell_type": "code",
   "execution_count": 12,
   "id": "d7b5e91b",
   "metadata": {},
   "outputs": [],
   "source": [
    "#09) Write a sql query to delete all books that have price > 50£ and has rate <= 2.\n",
    "DELETE FROM books \n",
    "WHERE price > 50 AND rate <=2;"
   ]
  },
  {
   "cell_type": "code",
   "execution_count": 13,
   "id": "460fd9be",
   "metadata": {},
   "outputs": [],
   "source": [
    "#10) Write a sql query to count the number of books that have 'Secret' in thier names and price between 10£ and 25£.\n",
    "SELECT count(price)\n",
    "FROM books \n",
    "WHERE name LIKE '%Secret%' AND price BETWEEN 10 AND 25"
   ]
  },
  {
   "cell_type": "code",
   "execution_count": 14,
   "id": "4aed0691",
   "metadata": {},
   "outputs": [],
   "source": [
    "#11) Write a sql query to get the minimum & maximum price for all the books that have rate 5.\n",
    "SELECT MIN(price),Max(price)\n",
    "FROM books \n",
    "WHERE rating = 5"
   ]
  },
  {
   "cell_type": "code",
   "execution_count": 15,
   "id": "b5ae66b8",
   "metadata": {},
   "outputs": [],
   "source": [
    "#12) Write a sql query to calculate the avg price for all the books that have rate 5.\n",
    "SELECT AVG(price)\n",
    "FROM books \n",
    "WHERE rating = 5"
   ]
  },
  {
   "cell_type": "code",
   "execution_count": 16,
   "id": "48bec7b9",
   "metadata": {},
   "outputs": [],
   "source": [
    "#13) Write a sql query to sum all book's price that have rate 2 and price between 10 and 40\n",
    "SELECT sum(price)\n",
    "FROM books \n",
    "WHERE rating = 2 AND price BETWEEN 10 AND 40"
   ]
  },
  {
   "cell_type": "code",
   "execution_count": 17,
   "id": "29112ee1",
   "metadata": {},
   "outputs": [],
   "source": [
    "#14) Write a sql query to join both books & categories table into one new table containing book_name & category_name & book_rate and book_price.\n",
    "SELECT b.name,c.category,b.rating,b.price\n",
    "FROM books b\n",
    "JOIN categories c\n",
    "ON c.category = b.category"
   ]
  },
  {
   "cell_type": "code",
   "execution_count": 18,
   "id": "8bd1c320",
   "metadata": {},
   "outputs": [],
   "source": [
    "#15) Write a sql query to calculate how many books each rate has and have price between 20£ and 30£.\n",
    "SELECT rating,count(rating),price\n",
    "FROM books\n",
    "GROUP BY rating\n",
    "HAVING price BETWEEN 20 AND 30"
   ]
  },
  {
   "cell_type": "code",
   "execution_count": 19,
   "id": "33a86a14",
   "metadata": {},
   "outputs": [],
   "source": [
    "#16) Write a sql query to calculate how many books each category has having count > 10.\n",
    "SELECT category,count(category) as num_of_books\n",
    "FROM books\n",
    "GROUP BY category\n",
    "HAVING num_of_books > 10"
   ]
  },
  {
   "cell_type": "code",
   "execution_count": null,
   "id": "9add6462",
   "metadata": {},
   "outputs": [],
   "source": [
    "#17) Write a sql query to get all books with category_name='Music' using subquery.\n"
   ]
  }
 ],
 "metadata": {
  "kernelspec": {
   "display_name": "Python 3 (ipykernel)",
   "language": "python",
   "name": "python3"
  },
  "language_info": {
   "codemirror_mode": {
    "name": "ipython",
    "version": 3
   },
   "file_extension": ".py",
   "mimetype": "text/x-python",
   "name": "python",
   "nbconvert_exporter": "python",
   "pygments_lexer": "ipython3",
   "version": "3.9.7"
  }
 },
 "nbformat": 4,
 "nbformat_minor": 5
}
